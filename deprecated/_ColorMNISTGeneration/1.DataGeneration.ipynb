{
 "cells": [
  {
   "cell_type": "code",
   "execution_count": 1,
   "id": "5a5db594",
   "metadata": {},
   "outputs": [],
   "source": [
    "from PIL import Image, ImageDraw\n",
    "from io import BytesIO\n",
    "import json\n",
    "import joblib\n",
    "import os\n",
    "import requests\n",
    "import random\n",
    "\n",
    "import cv2\n",
    "import numpy as np\n",
    "import matplotlib.pyplot as plt\n",
    "from sklearn.cluster import KMeans\n",
    "from skimage import feature as skif\n",
    "\n",
    "import torch\n",
    "import torchvision\n",
    "import torch.nn as nn\n",
    "import torch.optim as optim\n",
    "import torch.utils.data as data\n",
    "import torchvision.transforms as transforms\n",
    "from torch.utils.data import Dataset, DataLoader, ConcatDataset\n",
    "\n",
    "random.seed(25)"
   ]
  },
  {
   "cell_type": "code",
   "execution_count": 132,
   "id": "74f34318",
   "metadata": {},
   "outputs": [],
   "source": [
    "class ColorMNIST_LT(torchvision.datasets.MNIST):\n",
    "    def __init__(self, phase, test_type, output_path, logger, cat_ratio=1.0, att_ratio=0.1):\n",
    "        super(ColorMNIST_LT, self).__init__(root='./', train=(phase == 'train'), download=True)\n",
    "        # mnist dataset contains self.data, self.targets\n",
    "        self.dig2label = {0: 0, 1: 0, 2: 0, 3: 0, 4: 1, 5: 1, 6: 1, 7: 2, 8: 2, 9: 2}\n",
    "        self.dig2attri = {}\n",
    "        self.colors = {0:[1,0,0], 1:[0,1,0], 2:[0,0,1]}\n",
    "        \n",
    "        self.cat_ratio = cat_ratio\n",
    "        self.att_ratio = att_ratio\n",
    "        # generate long-tailed data\n",
    "        self.generate_lt_label(cat_ratio)\n",
    "        \n",
    "        \n",
    "    def generate_lt_label(self, ratio=1.0):\n",
    "        self.label2list = {i:[] for i in range(3)}\n",
    "        for img, dig in zip(self.data, self.targets):\n",
    "            label = self.dig2label[int(dig)]\n",
    "            self.label2list[label].append(img)\n",
    "        if ratio == 1.0:\n",
    "            balance_size = min([len(val) for key, val in self.label2list.items()])\n",
    "            for key, val in self.label2list.items():\n",
    "                self.label2list[key] = val[:balance_size]\n",
    "        elif ratio < 1.0:\n",
    "            current_size = len(self.label2list[0])\n",
    "            for key, val in self.label2list.items():\n",
    "                max_size = len(val)\n",
    "                self.label2list[key] = val[:min(max_size, current_size)]\n",
    "                current_size = int(current_size * ratio)\n",
    "        else:\n",
    "            raise ValueError('Wrong Ratio in ColorMNIST')\n",
    "        \n",
    "        self.lt_labels = []\n",
    "        self.lt_imgs = []\n",
    "        for key, val in self.label2list.items():\n",
    "            for item in val:\n",
    "                self.lt_labels.append(key)\n",
    "                self.lt_imgs.append(item)\n",
    "            print('Generate ColorMNIST: label {} has {} images.'.format(key, len(val)))\n",
    "        \n",
    "                \n",
    "    def __len__(self):\n",
    "        return len(self.lt_labels)\n",
    "        \n",
    "    def __getitem__(self, index):\n",
    "        img = self.lt_imgs[index].unsqueeze(-1).repeat(1,1,3)\n",
    "        label = self.lt_labels[index]\n",
    "        \n",
    "        # generate tail colors\n",
    "        if random.random() < self.att_ratio:\n",
    "            att_label = random.randint(0,2)\n",
    "            color = self.colors[att_label]\n",
    "        else:\n",
    "            color = self.colors[label]\n",
    "        \n",
    "        # assign attribute\n",
    "        img = self.to_color(img, color)\n",
    "        \n",
    "        return img, label\n",
    "    \n",
    "    def to_color(self, img, rgb=[1,0,0]):\n",
    "        return (img * torch.FloatTensor(rgb).unsqueeze(0).unsqueeze(0)).byte()"
   ]
  },
  {
   "cell_type": "code",
   "execution_count": 133,
   "id": "0bddd1e3",
   "metadata": {},
   "outputs": [],
   "source": [
    "def visualization(input_tensor):\n",
    "    return Image.fromarray(input_tensor.numpy()).resize((64,64))"
   ]
  },
  {
   "cell_type": "code",
   "execution_count": 135,
   "id": "77a12b35",
   "metadata": {},
   "outputs": [
    {
     "name": "stdout",
     "output_type": "stream",
     "text": [
      "Generate ColorMNIST: label 0 has 24754 images.\n",
      "Generate ColorMNIST: label 1 has 2475 images.\n",
      "Generate ColorMNIST: label 2 has 247 images.\n"
     ]
    }
   ],
   "source": [
    "dataset = ColorMNIST_LT('train', 'test_iid', '.', None, 0.1, 0.1)"
   ]
  },
  {
   "cell_type": "code",
   "execution_count": 165,
   "id": "72d73ef4",
   "metadata": {},
   "outputs": [
    {
     "data": {
      "image/png": "[encoded data removed]",
      "text/plain": [
       "<PIL.Image.Image image mode=RGB size=64x64 at 0x7FE130211438>"
      ]
     },
     "execution_count": 165,
     "metadata": {},
     "output_type": "execute_result"
    }
   ],
   "source": [
    "visualization(dataset[0][0])"
   ]
  },
  {
   "cell_type": "code",
   "execution_count": null,
   "id": "a9f1a89c",
   "metadata": {},
   "outputs": [],
   "source": []
  },
  {
   "cell_type": "code",
   "execution_count": null,
   "id": "36f89360",
   "metadata": {},
   "outputs": [],
   "source": []
  },
  {
   "cell_type": "code",
   "execution_count": null,
   "id": "617f415f",
   "metadata": {},
   "outputs": [],
   "source": []
  }
 ],
 "metadata": {
  "kernelspec": {
   "display_name": "Python 3",
   "language": "python",
   "name": "python3"
  },
  "language_info": {
   "codemirror_mode": {
    "name": "ipython",
    "version": 3
   },
   "file_extension": ".py",
   "mimetype": "text/x-python",
   "name": "python",
   "nbconvert_exporter": "python",
   "pygments_lexer": "ipython3",
   "version": "3.6.10"
  }
 },
 "nbformat": 4,
 "nbformat_minor": 5
}
