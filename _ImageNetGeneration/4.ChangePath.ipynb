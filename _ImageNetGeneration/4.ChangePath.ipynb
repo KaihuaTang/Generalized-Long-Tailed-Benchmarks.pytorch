{
 "cells": [
  {
   "cell_type": "code",
   "execution_count": 8,
   "id": "60106164",
   "metadata": {},
   "outputs": [],
   "source": [
    "import json\n",
    "\n",
    "LT_PATH = './imagenet_sup_intra_lt_inter_lt.json'\n",
    "BL_PATH = './imagenet_sup_intra_lt_inter_bl.json'\n",
    "\n",
    "OLD_PATH = '/data4'\n",
    "NEW_PATH = '/home/kaihua.tkh/datasets'"
   ]
  },
  {
   "cell_type": "code",
   "execution_count": 9,
   "id": "05c1f024",
   "metadata": {},
   "outputs": [],
   "source": [
    "anno_file = json.load(open(LT_PATH))\n",
    "\n",
    "for split in ('train', 'val', 'test_lt', 'test_bl', 'test_bbl'):\n",
    "    split_new_data = {}\n",
    "    split_data = anno_file[split]\n",
    "    for k_type, val in split_data.items():\n",
    "        split_new_data[k_type] = {}\n",
    "        for path, label in val.items():\n",
    "            assert path.startswith(OLD_PATH) \n",
    "            new_path = NEW_PATH + path[len(OLD_PATH):]\n",
    "            split_new_data[k_type][new_path] = label\n",
    "    anno_file[split] = split_new_data\n",
    "\n",
    "with open(LT_PATH, 'w') as outfile:\n",
    "    json.dump(anno_file, outfile)"
   ]
  },
  {
   "cell_type": "code",
   "execution_count": 10,
   "id": "b843650f",
   "metadata": {},
   "outputs": [],
   "source": [
    "anno_file = json.load(open(BL_PATH))\n",
    "\n",
    "for split in ('train', 'val', 'test_lt', 'test_bl', 'test_bbl'):\n",
    "    split_new_data = {}\n",
    "    split_data = anno_file[split]\n",
    "    for k_type, val in split_data.items():\n",
    "        split_new_data[k_type] = {}\n",
    "        for path, label in val.items():\n",
    "            assert path.startswith(OLD_PATH) \n",
    "            new_path = NEW_PATH + path[len(OLD_PATH):]\n",
    "            split_new_data[k_type][new_path] = label\n",
    "    anno_file[split] = split_new_data\n",
    "\n",
    "with open(BL_PATH, 'w') as outfile:\n",
    "    json.dump(anno_file, outfile)"
   ]
  },
  {
   "cell_type": "code",
   "execution_count": null,
   "id": "5a7bdaf8",
   "metadata": {},
   "outputs": [],
   "source": []
  }
 ],
 "metadata": {
  "kernelspec": {
   "display_name": "Python 3",
   "language": "python",
   "name": "python3"
  },
  "language_info": {
   "codemirror_mode": {
    "name": "ipython",
    "version": 3
   },
   "file_extension": ".py",
   "mimetype": "text/x-python",
   "name": "python",
   "nbconvert_exporter": "python",
   "pygments_lexer": "ipython3",
   "version": "3.6.10"
  }
 },
 "nbformat": 4,
 "nbformat_minor": 5
}
